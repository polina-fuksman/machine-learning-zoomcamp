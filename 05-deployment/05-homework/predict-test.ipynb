{
 "cells": [
  {
   "cell_type": "code",
   "execution_count": 1,
   "id": "9d0a8c4e-3b2e-4787-bf0c-d90d2219b087",
   "metadata": {},
   "outputs": [],
   "source": [
    "import requests"
   ]
  },
  {
   "cell_type": "code",
   "execution_count": 4,
   "id": "7d0fbf63-c67f-49b7-a5be-574ae885a7e0",
   "metadata": {},
   "outputs": [],
   "source": [
    "url = 'http://localhost:8080/predict_test'"
   ]
  },
  {
   "cell_type": "code",
   "execution_count": 6,
   "id": "04d96c29-4bf5-41c3-966c-207d8b322f84",
   "metadata": {},
   "outputs": [
    {
     "data": {
      "text/plain": [
       "{'converted': True, 'convertion_probability': 0.534}"
      ]
     },
     "execution_count": 6,
     "metadata": {},
     "output_type": "execute_result"
    }
   ],
   "source": [
    "\n",
    "client = {\n",
    "    \"lead_source\": \"organic_search\",\n",
    "    \"number_of_courses_viewed\": 4,\n",
    "    \"annual_income\": 80304.0\n",
    "}\n",
    "requests.post(url, json=client).json()"
   ]
  },
  {
   "cell_type": "code",
   "execution_count": null,
   "id": "4e8d2d65-4d22-4819-bb7d-3aca5bddc46d",
   "metadata": {},
   "outputs": [],
   "source": []
  }
 ],
 "metadata": {
  "kernelspec": {
   "display_name": "Python (system)",
   "language": "python",
   "name": "system-python"
  },
  "language_info": {
   "codemirror_mode": {
    "name": "ipython",
    "version": 3
   },
   "file_extension": ".py",
   "mimetype": "text/x-python",
   "name": "python",
   "nbconvert_exporter": "python",
   "pygments_lexer": "ipython3",
   "version": "3.9.6"
  }
 },
 "nbformat": 4,
 "nbformat_minor": 5
}
