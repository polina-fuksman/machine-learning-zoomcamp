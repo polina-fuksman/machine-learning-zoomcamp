{
 "cells": [
  {
   "cell_type": "markdown",
   "id": "6c22ca9c-ee0a-4d4d-b843-53440bc60c01",
   "metadata": {},
   "source": [
    "# Question 1"
   ]
  },
  {
   "cell_type": "markdown",
   "id": "7d594473-121e-494c-90d0-359af4654457",
   "metadata": {},
   "source": [
    "**Answer**: uv 0.9.5 (d5f39331a 2025-10-21)"
   ]
  },
  {
   "cell_type": "markdown",
   "id": "9ed041be-0444-4551-b06c-15c2ab1c42dc",
   "metadata": {},
   "source": [
    "# Question 2"
   ]
  },
  {
   "cell_type": "markdown",
   "id": "b92a0762-49bf-4b2c-aa5a-0b4ba6dada18",
   "metadata": {},
   "source": [
    "**Answer**: sha256=NcvXVeYGFKansD_SnD6Vd57T6ZEzP36eWUd5eRbdLjc"
   ]
  },
  {
   "cell_type": "markdown",
   "id": "506ec192-e80d-486f-910a-ecc684695d9b",
   "metadata": {},
   "source": [
    "# Question 3"
   ]
  },
  {
   "cell_type": "code",
   "execution_count": 15,
   "id": "68581d10-4ab3-4c9b-8129-41473aa7a386",
   "metadata": {},
   "outputs": [],
   "source": [
    "import pickle"
   ]
  },
  {
   "cell_type": "code",
   "execution_count": 16,
   "id": "1f22e3f9-4973-4401-81d8-de8e2e32c4cf",
   "metadata": {},
   "outputs": [],
   "source": [
    "model_file = 'pipeline_v1.bin'"
   ]
  },
  {
   "cell_type": "code",
   "execution_count": 17,
   "id": "588af687-fa77-49f5-bd35-89435e9d4bfb",
   "metadata": {},
   "outputs": [],
   "source": [
    "with open(model_file,'rb') as f_in:\n",
    "    dv,model = pickle.load(f_in)"
   ]
  },
  {
   "cell_type": "code",
   "execution_count": 18,
   "id": "33d26251-f0da-40a2-a463-b98424c1e21d",
   "metadata": {},
   "outputs": [
    {
     "data": {
      "text/plain": [
       "(DictVectorizer(), LogisticRegression(solver='liblinear'))"
      ]
     },
     "execution_count": 18,
     "metadata": {},
     "output_type": "execute_result"
    }
   ],
   "source": [
    "dv, model"
   ]
  },
  {
   "cell_type": "code",
   "execution_count": 19,
   "id": "cd4d80ad-0c33-42e5-bc0e-b26fde9f22a0",
   "metadata": {},
   "outputs": [],
   "source": [
    "record = {\n",
    "    \"lead_source\": \"paid_ads\",\n",
    "    \"number_of_courses_viewed\": 2,\n",
    "    \"annual_income\": 79276.0\n",
    "}"
   ]
  },
  {
   "cell_type": "code",
   "execution_count": 20,
   "id": "f7e3ecdd-be59-4610-82e2-a2d4d6f6b433",
   "metadata": {},
   "outputs": [],
   "source": [
    "X = dv.transform([record])"
   ]
  },
  {
   "cell_type": "code",
   "execution_count": 21,
   "id": "8e87a84b-5442-4cba-ba6c-a6d4692e4b00",
   "metadata": {},
   "outputs": [
    {
     "data": {
      "text/plain": [
       "np.float64(0.5336072702798061)"
      ]
     },
     "execution_count": 21,
     "metadata": {},
     "output_type": "execute_result"
    }
   ],
   "source": [
    "model.predict_proba(X)[0,1]"
   ]
  },
  {
   "cell_type": "markdown",
   "id": "735dbd96-1d51-48bd-90ae-19c73bbc8c18",
   "metadata": {},
   "source": [
    "**Answer**: 0.5336072702798061"
   ]
  },
  {
   "cell_type": "markdown",
   "id": "42f2554a-7548-45a6-bbe3-87aac4e0912b",
   "metadata": {},
   "source": [
    "# Question 4"
   ]
  },
  {
   "cell_type": "markdown",
   "id": "140cf677-9407-4d04-bcd0-e1eb2c855096",
   "metadata": {},
   "source": [
    "**Answer**: convertion_probability: 0.534"
   ]
  },
  {
   "cell_type": "markdown",
   "id": "39f73605-c104-4332-b9d6-f10b563e88e7",
   "metadata": {},
   "source": [
    "# Question 5"
   ]
  },
  {
   "cell_type": "markdown",
   "id": "f8147ff6-6403-4d4a-8b46-8458001e6ad3",
   "metadata": {},
   "source": [
    "**Answer**: 181MB"
   ]
  },
  {
   "cell_type": "markdown",
   "id": "1539ca18-e276-49f4-af96-fc0694b7b586",
   "metadata": {},
   "source": [
    "# Question 6"
   ]
  },
  {
   "cell_type": "markdown",
   "id": "30e37f39-bb41-4818-9003-a1784910b859",
   "metadata": {},
   "source": [
    "**Answer**: couldn't do it =("
   ]
  },
  {
   "cell_type": "code",
   "execution_count": null,
   "id": "3993fcb6-37c4-43f8-ac8a-55e3880b406f",
   "metadata": {},
   "outputs": [],
   "source": []
  }
 ],
 "metadata": {
  "kernelspec": {
   "display_name": "Python (system)",
   "language": "python",
   "name": "system-python"
  },
  "language_info": {
   "codemirror_mode": {
    "name": "ipython",
    "version": 3
   },
   "file_extension": ".py",
   "mimetype": "text/x-python",
   "name": "python",
   "nbconvert_exporter": "python",
   "pygments_lexer": "ipython3",
   "version": "3.9.6"
  }
 },
 "nbformat": 4,
 "nbformat_minor": 5
}
