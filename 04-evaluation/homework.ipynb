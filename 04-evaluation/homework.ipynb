{
 "cells": [
  {
   "cell_type": "code",
   "execution_count": 3,
   "id": "daac47ed-5ab5-4daf-b5f4-32b02047a5bd",
   "metadata": {},
   "outputs": [],
   "source": [
    "import pandas as pd\n",
    "import numpy as np\n",
    "\n",
    "import matplotlib.pyplot as plt\n",
    "import seaborn as sns"
   ]
  },
  {
   "cell_type": "markdown",
   "id": "b85c2725-5ff1-4736-a518-a8f9c5cab7a1",
   "metadata": {},
   "source": [
    "# Data preparation"
   ]
  },
  {
   "cell_type": "code",
   "execution_count": 4,
   "id": "847d580b-4a01-4d54-9b6a-0d9699a40a54",
   "metadata": {},
   "outputs": [],
   "source": [
    "data = 'https://raw.githubusercontent.com/alexeygrigorev/datasets/master/course_lead_scoring.csv'"
   ]
  },
  {
   "cell_type": "code",
   "execution_count": 5,
   "id": "595e73a6-fb7e-4d16-a29e-b374e963fef8",
   "metadata": {},
   "outputs": [],
   "source": [
    "#!wget $data"
   ]
  },
  {
   "cell_type": "code",
   "execution_count": 6,
   "id": "89e153b8-79e8-4d75-81f5-bb74fbf8948a",
   "metadata": {},
   "outputs": [
    {
     "data": {
      "text/html": [
       "<div>\n",
       "<style scoped>\n",
       "    .dataframe tbody tr th:only-of-type {\n",
       "        vertical-align: middle;\n",
       "    }\n",
       "\n",
       "    .dataframe tbody tr th {\n",
       "        vertical-align: top;\n",
       "    }\n",
       "\n",
       "    .dataframe thead th {\n",
       "        text-align: right;\n",
       "    }\n",
       "</style>\n",
       "<table border=\"1\" class=\"dataframe\">\n",
       "  <thead>\n",
       "    <tr style=\"text-align: right;\">\n",
       "      <th></th>\n",
       "      <th>lead_source</th>\n",
       "      <th>industry</th>\n",
       "      <th>number_of_courses_viewed</th>\n",
       "      <th>annual_income</th>\n",
       "      <th>employment_status</th>\n",
       "      <th>location</th>\n",
       "      <th>interaction_count</th>\n",
       "      <th>lead_score</th>\n",
       "      <th>converted</th>\n",
       "    </tr>\n",
       "  </thead>\n",
       "  <tbody>\n",
       "    <tr>\n",
       "      <th>0</th>\n",
       "      <td>paid_ads</td>\n",
       "      <td>NaN</td>\n",
       "      <td>1</td>\n",
       "      <td>79450.0</td>\n",
       "      <td>unemployed</td>\n",
       "      <td>south_america</td>\n",
       "      <td>4</td>\n",
       "      <td>0.94</td>\n",
       "      <td>1</td>\n",
       "    </tr>\n",
       "    <tr>\n",
       "      <th>1</th>\n",
       "      <td>social_media</td>\n",
       "      <td>retail</td>\n",
       "      <td>1</td>\n",
       "      <td>46992.0</td>\n",
       "      <td>employed</td>\n",
       "      <td>south_america</td>\n",
       "      <td>1</td>\n",
       "      <td>0.80</td>\n",
       "      <td>0</td>\n",
       "    </tr>\n",
       "    <tr>\n",
       "      <th>2</th>\n",
       "      <td>events</td>\n",
       "      <td>healthcare</td>\n",
       "      <td>5</td>\n",
       "      <td>78796.0</td>\n",
       "      <td>unemployed</td>\n",
       "      <td>australia</td>\n",
       "      <td>3</td>\n",
       "      <td>0.69</td>\n",
       "      <td>1</td>\n",
       "    </tr>\n",
       "    <tr>\n",
       "      <th>3</th>\n",
       "      <td>paid_ads</td>\n",
       "      <td>retail</td>\n",
       "      <td>2</td>\n",
       "      <td>83843.0</td>\n",
       "      <td>NaN</td>\n",
       "      <td>australia</td>\n",
       "      <td>1</td>\n",
       "      <td>0.87</td>\n",
       "      <td>0</td>\n",
       "    </tr>\n",
       "    <tr>\n",
       "      <th>4</th>\n",
       "      <td>referral</td>\n",
       "      <td>education</td>\n",
       "      <td>3</td>\n",
       "      <td>85012.0</td>\n",
       "      <td>self_employed</td>\n",
       "      <td>europe</td>\n",
       "      <td>3</td>\n",
       "      <td>0.62</td>\n",
       "      <td>1</td>\n",
       "    </tr>\n",
       "  </tbody>\n",
       "</table>\n",
       "</div>"
      ],
      "text/plain": [
       "    lead_source    industry  number_of_courses_viewed  annual_income  \\\n",
       "0      paid_ads         NaN                         1        79450.0   \n",
       "1  social_media      retail                         1        46992.0   \n",
       "2        events  healthcare                         5        78796.0   \n",
       "3      paid_ads      retail                         2        83843.0   \n",
       "4      referral   education                         3        85012.0   \n",
       "\n",
       "  employment_status       location  interaction_count  lead_score  converted  \n",
       "0        unemployed  south_america                  4        0.94          1  \n",
       "1          employed  south_america                  1        0.80          0  \n",
       "2        unemployed      australia                  3        0.69          1  \n",
       "3               NaN      australia                  1        0.87          0  \n",
       "4     self_employed         europe                  3        0.62          1  "
      ]
     },
     "execution_count": 6,
     "metadata": {},
     "output_type": "execute_result"
    }
   ],
   "source": [
    "df = pd.read_csv('course_lead_scoring.csv')\n",
    "df.head()"
   ]
  },
  {
   "cell_type": "code",
   "execution_count": 7,
   "id": "43bef5d2-9acb-495d-8cb0-6ca00c5e56c3",
   "metadata": {},
   "outputs": [
    {
     "data": {
      "text/plain": [
       "lead_source                 128\n",
       "industry                    134\n",
       "number_of_courses_viewed      0\n",
       "annual_income               181\n",
       "employment_status           100\n",
       "location                     63\n",
       "interaction_count             0\n",
       "lead_score                    0\n",
       "converted                     0\n",
       "dtype: int64"
      ]
     },
     "execution_count": 7,
     "metadata": {},
     "output_type": "execute_result"
    }
   ],
   "source": [
    "df.isna().sum()"
   ]
  },
  {
   "cell_type": "code",
   "execution_count": 8,
   "id": "97719406-6444-47ee-826d-abc1e26d125a",
   "metadata": {},
   "outputs": [],
   "source": [
    "categorical = ['lead_source','industry','employment_status','location']\n",
    "numerical = ['number_of_courses_viewed','annual_income','interaction_count','lead_score']"
   ]
  },
  {
   "cell_type": "code",
   "execution_count": 9,
   "id": "87e569e5-b0f2-4ad5-b43b-3aed8474b867",
   "metadata": {},
   "outputs": [],
   "source": [
    "df[categorical] = df[categorical].fillna('NA')\n",
    "df[numerical] = df[numerical].fillna(0.0)"
   ]
  },
  {
   "cell_type": "code",
   "execution_count": 10,
   "id": "50173e3d-d657-4cf5-bb84-aa8be07da752",
   "metadata": {},
   "outputs": [
    {
     "data": {
      "text/plain": [
       "lead_source                 0\n",
       "industry                    0\n",
       "number_of_courses_viewed    0\n",
       "annual_income               0\n",
       "employment_status           0\n",
       "location                    0\n",
       "interaction_count           0\n",
       "lead_score                  0\n",
       "converted                   0\n",
       "dtype: int64"
      ]
     },
     "execution_count": 10,
     "metadata": {},
     "output_type": "execute_result"
    }
   ],
   "source": [
    "df.isna().sum()"
   ]
  },
  {
   "cell_type": "code",
   "execution_count": 11,
   "id": "1639feb1-b228-4b96-92c1-41d55e2e66f9",
   "metadata": {},
   "outputs": [],
   "source": [
    "from sklearn.model_selection import train_test_split"
   ]
  },
  {
   "cell_type": "code",
   "execution_count": 12,
   "id": "ce6c07bd-6480-4f5f-a207-73e2de944213",
   "metadata": {},
   "outputs": [],
   "source": [
    "df_full_train, df_test = train_test_split(df, test_size=0.2, random_state=1)\n",
    "df_train, df_val = train_test_split(df_full_train, test_size=0.25, random_state=1)\n",
    "\n",
    "y_train = df_train.converted.values\n",
    "y_val = df_val.converted.values\n",
    "y_test = df_test.converted.values\n",
    "\n",
    "del df_train['converted']\n",
    "del df_val['converted']\n",
    "del df_test['converted']\n",
    "\n",
    "df_train = df_train.reset_index(drop=True)\n",
    "df_val = df_val.reset_index(drop=True)\n",
    "df_test = df_test.reset_index(drop=True)"
   ]
  },
  {
   "cell_type": "markdown",
   "id": "dec9fe21-7606-4e4c-b196-b46c6f85057c",
   "metadata": {},
   "source": [
    "# Question 1: ROC AUC feature importance"
   ]
  },
  {
   "cell_type": "code",
   "execution_count": 13,
   "id": "7d0571c4-7d8f-44b4-ac29-22758ce0c0c1",
   "metadata": {},
   "outputs": [],
   "source": [
    "from sklearn.metrics import roc_auc_score"
   ]
  },
  {
   "cell_type": "code",
   "execution_count": 14,
   "id": "63798432-60f2-461d-bc0c-1885dd23481e",
   "metadata": {},
   "outputs": [
    {
     "name": "stdout",
     "output_type": "stream",
     "text": [
      "number_of_courses_viewed 0.764\n",
      "annual_income 0.552\n",
      "interaction_count 0.738\n",
      "lead_score 0.614\n"
     ]
    }
   ],
   "source": [
    "for n in numerical:\n",
    "    n_pred = np.array(df_train[n])\n",
    "    score = roc_auc_score(y_train, n_pred)\n",
    "    print(n, round(score,3))"
   ]
  },
  {
   "cell_type": "markdown",
   "id": "0cdaee9f-bca6-4c1b-9fbf-7dd539364b1d",
   "metadata": {},
   "source": [
    "### Which numerical variable (among the following 4) has the highest AUC? — number_of_courses_viewed"
   ]
  },
  {
   "cell_type": "markdown",
   "id": "0427f077-9369-470b-94b5-e33b72dc8ecb",
   "metadata": {},
   "source": [
    "# Question 2: Training the model"
   ]
  },
  {
   "cell_type": "code",
   "execution_count": 15,
   "id": "5925b8d8-4818-4f00-9c7e-b8934fd96e3a",
   "metadata": {},
   "outputs": [],
   "source": [
    "from sklearn.feature_extraction import DictVectorizer\n",
    "from sklearn.linear_model import LogisticRegression"
   ]
  },
  {
   "cell_type": "code",
   "execution_count": 16,
   "id": "33105742-26fc-4255-b90a-29d1ee718d0b",
   "metadata": {},
   "outputs": [],
   "source": [
    "# LogisticRegression(solver='liblinear', C=1.0, max_iter=1000)\n",
    "\n",
    "dv = DictVectorizer(sparse=False)\n",
    "\n",
    "train_dicts = df_train[categorical + numerical].to_dict(orient='records')\n",
    "X_train = dv.fit_transform(train_dicts)\n",
    "\n",
    "model = LogisticRegression(solver='liblinear', C=1.0, max_iter=1000).fit(X_train, y_train)\n",
    "\n",
    "val_dicts = df_val[categorical + numerical].to_dict(orient='records')\n",
    "X_val = dv.transform(val_dicts)\n",
    "\n",
    "y_pred = model.predict_proba(X_val)[:,1]"
   ]
  },
  {
   "cell_type": "code",
   "execution_count": 17,
   "id": "f8e5115f-ccd7-4dd5-aa28-2eae3b2640e8",
   "metadata": {},
   "outputs": [
    {
     "data": {
      "text/plain": [
       "0.817"
      ]
     },
     "execution_count": 17,
     "metadata": {},
     "output_type": "execute_result"
    }
   ],
   "source": [
    "score = roc_auc_score(y_val, y_pred)\n",
    "round(score,3)"
   ]
  },
  {
   "cell_type": "markdown",
   "id": "cec57df5-17d9-4f7b-accd-4cc5dad37fe5",
   "metadata": {},
   "source": [
    "### What's the AUC of this model on the validation dataset? (round to 3 digits) — 0.92"
   ]
  },
  {
   "cell_type": "markdown",
   "id": "7f2cc953-ece7-4a13-9e84-fad08dfc35b8",
   "metadata": {},
   "source": [
    "# Question 3: Precision and Recall"
   ]
  },
  {
   "cell_type": "markdown",
   "id": "40139ca8-53da-4777-93a5-0c9b146a1bf0",
   "metadata": {},
   "source": [
    "Now let's compute precision and recall for our model.\n",
    "\n",
    "Evaluate the model on all thresholds from 0.0 to 1.0 with step 0.01\n",
    "For each threshold, compute precision and recall\n",
    "Plot them\n",
    "At which threshold precision and recall curves intersect?"
   ]
  },
  {
   "cell_type": "code",
   "execution_count": 18,
   "id": "996b47d9-6255-4dd4-833e-c866ba38e635",
   "metadata": {},
   "outputs": [
    {
     "name": "stderr",
     "output_type": "stream",
     "text": [
      "/var/folders/fy/xyh07_qn3vd2x6f9bgwmgxsm0000gn/T/ipykernel_67918/1778061235.py:22: RuntimeWarning: invalid value encountered in scalar divide\n",
      "  p = tp / (tp + fp)\n"
     ]
    },
    {
     "data": {
      "text/html": [
       "<div>\n",
       "<style scoped>\n",
       "    .dataframe tbody tr th:only-of-type {\n",
       "        vertical-align: middle;\n",
       "    }\n",
       "\n",
       "    .dataframe tbody tr th {\n",
       "        vertical-align: top;\n",
       "    }\n",
       "\n",
       "    .dataframe thead th {\n",
       "        text-align: right;\n",
       "    }\n",
       "</style>\n",
       "<table border=\"1\" class=\"dataframe\">\n",
       "  <thead>\n",
       "    <tr style=\"text-align: right;\">\n",
       "      <th></th>\n",
       "      <th>threshold</th>\n",
       "      <th>p</th>\n",
       "      <th>r</th>\n",
       "    </tr>\n",
       "  </thead>\n",
       "  <tbody>\n",
       "    <tr>\n",
       "      <th>0</th>\n",
       "      <td>0.00</td>\n",
       "      <td>0.583618</td>\n",
       "      <td>1.000000</td>\n",
       "    </tr>\n",
       "    <tr>\n",
       "      <th>1</th>\n",
       "      <td>0.01</td>\n",
       "      <td>0.583618</td>\n",
       "      <td>1.000000</td>\n",
       "    </tr>\n",
       "    <tr>\n",
       "      <th>2</th>\n",
       "      <td>0.02</td>\n",
       "      <td>0.583618</td>\n",
       "      <td>1.000000</td>\n",
       "    </tr>\n",
       "    <tr>\n",
       "      <th>3</th>\n",
       "      <td>0.03</td>\n",
       "      <td>0.583618</td>\n",
       "      <td>1.000000</td>\n",
       "    </tr>\n",
       "    <tr>\n",
       "      <th>4</th>\n",
       "      <td>0.04</td>\n",
       "      <td>0.583618</td>\n",
       "      <td>1.000000</td>\n",
       "    </tr>\n",
       "    <tr>\n",
       "      <th>...</th>\n",
       "      <td>...</td>\n",
       "      <td>...</td>\n",
       "      <td>...</td>\n",
       "    </tr>\n",
       "    <tr>\n",
       "      <th>96</th>\n",
       "      <td>0.96</td>\n",
       "      <td>1.000000</td>\n",
       "      <td>0.017544</td>\n",
       "    </tr>\n",
       "    <tr>\n",
       "      <th>97</th>\n",
       "      <td>0.97</td>\n",
       "      <td>1.000000</td>\n",
       "      <td>0.005848</td>\n",
       "    </tr>\n",
       "    <tr>\n",
       "      <th>98</th>\n",
       "      <td>0.98</td>\n",
       "      <td>NaN</td>\n",
       "      <td>0.000000</td>\n",
       "    </tr>\n",
       "    <tr>\n",
       "      <th>99</th>\n",
       "      <td>0.99</td>\n",
       "      <td>NaN</td>\n",
       "      <td>0.000000</td>\n",
       "    </tr>\n",
       "    <tr>\n",
       "      <th>100</th>\n",
       "      <td>1.00</td>\n",
       "      <td>NaN</td>\n",
       "      <td>0.000000</td>\n",
       "    </tr>\n",
       "  </tbody>\n",
       "</table>\n",
       "<p>101 rows × 3 columns</p>\n",
       "</div>"
      ],
      "text/plain": [
       "     threshold         p         r\n",
       "0         0.00  0.583618  1.000000\n",
       "1         0.01  0.583618  1.000000\n",
       "2         0.02  0.583618  1.000000\n",
       "3         0.03  0.583618  1.000000\n",
       "4         0.04  0.583618  1.000000\n",
       "..         ...       ...       ...\n",
       "96        0.96  1.000000  0.017544\n",
       "97        0.97  1.000000  0.005848\n",
       "98        0.98       NaN  0.000000\n",
       "99        0.99       NaN  0.000000\n",
       "100       1.00       NaN  0.000000\n",
       "\n",
       "[101 rows x 3 columns]"
      ]
     },
     "execution_count": 18,
     "metadata": {},
     "output_type": "execute_result"
    }
   ],
   "source": [
    "actual_positiv = (y_val == 1)\n",
    "actual_negative = (y_val == 0)\n",
    "\n",
    "thresholds = np.linspace(0, 1, 101)\n",
    "\n",
    "scores = []\n",
    "\n",
    "for t in thresholds:\n",
    "    predict_positive = (y_pred >= t)\n",
    "    predict_negative = (y_pred < t)\n",
    "    \n",
    "    # true positive\n",
    "    tp = (predict_positive & actual_positiv).sum()\n",
    "    # true negative\n",
    "    tn = (predict_negative & actual_negative).sum()\n",
    "    # false positive \n",
    "    fp = (predict_positive & actual_negative).sum()\n",
    "    # false negative\n",
    "    fn = (predict_negative & actual_positiv).sum()\n",
    "\n",
    "    # p - precision\n",
    "    p = tp / (tp + fp)\n",
    "\n",
    "    # r - recall\n",
    "    r = tp / (tp + fn)\n",
    "\n",
    "    scores.append([t, p, r])\n",
    "\n",
    "columns = ['threshold', 'p','r']\n",
    "df_scores = pd.DataFrame(scores, columns=columns)\n",
    "df_scores\n",
    "    "
   ]
  },
  {
   "cell_type": "code",
   "execution_count": 19,
   "id": "dee547ce-1b0d-4113-a1f4-80e4d575d0a9",
   "metadata": {},
   "outputs": [
    {
     "data": {
      "text/plain": [
       "<matplotlib.legend.Legend at 0x168234190>"
      ]
     },
     "execution_count": 19,
     "metadata": {},
     "output_type": "execute_result"
    },
    {
     "data": {
      "image/png": "[encoded data removed]",
      "text/plain": [
       "<Figure size 640x480 with 1 Axes>"
      ]
     },
     "metadata": {},
     "output_type": "display_data"
    }
   ],
   "source": [
    "plt.plot(df_scores['threshold'], df_scores['p'], label='precision')\n",
    "plt.plot(df_scores['threshold'], df_scores['r'],label='recall')\n",
    "plt.legend()"
   ]
  },
  {
   "cell_type": "markdown",
   "id": "8e2b6124-7cb5-4d95-9494-fb1a5c16515b",
   "metadata": {},
   "source": [
    "### At which threshold precision and recall curves intersect? — 0.65 (closest 0.745)"
   ]
  },
  {
   "cell_type": "markdown",
   "id": "f3688c3a-c4a8-4ec0-8074-866e8bff74a9",
   "metadata": {},
   "source": [
    "# Question 4: F1 score"
   ]
  },
  {
   "cell_type": "code",
   "execution_count": 20,
   "id": "d0efd001-54b6-47a1-a570-21e129a6a807",
   "metadata": {},
   "outputs": [
    {
     "name": "stdout",
     "output_type": "stream",
     "text": [
      "threshold 0.0 — 0.737\n",
      "threshold 0.01 — 0.737\n",
      "threshold 0.02 — 0.737\n",
      "threshold 0.03 — 0.737\n",
      "threshold 0.04 — 0.737\n",
      "threshold 0.05 — 0.737\n",
      "threshold 0.06 — 0.737\n",
      "threshold 0.07 — 0.737\n",
      "threshold 0.08 — 0.737\n",
      "threshold 0.09 — 0.737\n",
      "threshold 0.1 — 0.737\n",
      "threshold 0.11 — 0.737\n",
      "threshold 0.12 — 0.737\n",
      "threshold 0.13 — 0.737\n",
      "threshold 0.14 — 0.737\n",
      "threshold 0.15 — 0.737\n",
      "threshold 0.16 — 0.737\n",
      "threshold 0.17 — 0.737\n",
      "threshold 0.18 — 0.737\n",
      "threshold 0.19 — 0.737\n",
      "threshold 0.2 — 0.737\n",
      "threshold 0.21 — 0.737\n",
      "threshold 0.22 — 0.737\n",
      "threshold 0.23 — 0.737\n",
      "threshold 0.24 — 0.737\n",
      "threshold 0.25 — 0.737\n",
      "threshold 0.26 — 0.737\n",
      "threshold 0.27 — 0.739\n",
      "threshold 0.28 — 0.74\n",
      "threshold 0.29 — 0.742\n",
      "threshold 0.3 — 0.742\n",
      "threshold 0.31 — 0.742\n",
      "threshold 0.32 — 0.743\n",
      "threshold 0.33 — 0.743\n",
      "threshold 0.34 — 0.745\n",
      "threshold 0.35 — 0.745\n",
      "threshold 0.36 — 0.748\n",
      "threshold 0.37 — 0.748\n",
      "threshold 0.38 — 0.752\n",
      "threshold 0.39 — 0.758\n",
      "threshold 0.4 — 0.765\n",
      "threshold 0.41 — 0.764\n",
      "threshold 0.42 — 0.773\n",
      "threshold 0.43 — 0.774\n",
      "threshold 0.44 — 0.782\n",
      "threshold 0.45 — 0.782\n",
      "threshold 0.46 — 0.786\n",
      "threshold 0.47 — 0.787\n",
      "threshold 0.48 — 0.79\n",
      "threshold 0.49 — 0.788\n",
      "threshold 0.5 — 0.788\n",
      "threshold 0.51 — 0.791\n",
      "threshold 0.52 — 0.795\n",
      "threshold 0.53 — 0.803\n",
      "threshold 0.54 — 0.806\n",
      "threshold 0.55 — 0.811\n",
      "threshold 0.56 — 0.809\n",
      "threshold 0.57 — 0.812\n",
      "threshold 0.58 — 0.808\n",
      "threshold 0.59 — 0.809\n",
      "threshold 0.6 — 0.802\n",
      "threshold 0.61 — 0.802\n",
      "threshold 0.62 — 0.797\n",
      "threshold 0.63 — 0.788\n",
      "threshold 0.64 — 0.781\n",
      "threshold 0.65 — 0.769\n",
      "threshold 0.66 — 0.752\n",
      "threshold 0.67 — 0.753\n",
      "threshold 0.68 — 0.737\n",
      "threshold 0.69 — 0.718\n",
      "threshold 0.7 — 0.702\n",
      "threshold 0.71 — 0.698\n",
      "threshold 0.72 — 0.671\n",
      "threshold 0.73 — 0.643\n",
      "threshold 0.74 — 0.64\n",
      "threshold 0.75 — 0.627\n",
      "threshold 0.76 — 0.619\n",
      "threshold 0.77 — 0.6\n",
      "threshold 0.78 — 0.574\n",
      "threshold 0.79 — 0.549\n",
      "threshold 0.8 — 0.531\n",
      "threshold 0.81 — 0.525\n",
      "threshold 0.82 — 0.504\n",
      "threshold 0.83 — 0.465\n",
      "threshold 0.84 — 0.458\n",
      "threshold 0.85 — 0.42\n",
      "threshold 0.86 — 0.383\n",
      "threshold 0.87 — 0.329\n",
      "threshold 0.88 — 0.304\n",
      "threshold 0.89 — 0.271\n",
      "threshold 0.9 — 0.245\n",
      "threshold 0.91 — 0.189\n",
      "threshold 0.92 — 0.12\n",
      "threshold 0.93 — 0.079\n",
      "threshold 0.94 — 0.079\n",
      "threshold 0.95 — 0.057\n",
      "threshold 0.96 — 0.034\n",
      "threshold 0.97 — 0.012\n",
      "threshold 0.98 — nan\n",
      "threshold 0.99 — nan\n",
      "threshold 1.0 — nan\n"
     ]
    },
    {
     "name": "stderr",
     "output_type": "stream",
     "text": [
      "/var/folders/fy/xyh07_qn3vd2x6f9bgwmgxsm0000gn/T/ipykernel_67918/288592807.py:15: RuntimeWarning: invalid value encountered in scalar divide\n",
      "  p = tp / (tp + fp)\n"
     ]
    }
   ],
   "source": [
    "for t in thresholds:\n",
    "    predict_positive = (y_pred >= t)\n",
    "    predict_negative = (y_pred < t)\n",
    "    \n",
    "    # true positive\n",
    "    tp = (predict_positive & actual_positiv).sum()\n",
    "    # true negative\n",
    "    tn = (predict_negative & actual_negative).sum()\n",
    "    # false positive \n",
    "    fp = (predict_positive & actual_negative).sum()\n",
    "    # false negative\n",
    "    fn = (predict_negative & actual_positiv).sum()\n",
    "\n",
    "    # p - precision\n",
    "    p = tp / (tp + fp)\n",
    "\n",
    "    # r - recall\n",
    "    r = tp / (tp + fn)\n",
    "\n",
    "    f1 = round( (2 * (p*r) /(p+r) ) ,3 )\n",
    "\n",
    "    print(f'threshold {round(t,2)} —', f1)"
   ]
  },
  {
   "cell_type": "markdown",
   "id": "8add3533-dd1c-4c83-945e-589703677644",
   "metadata": {},
   "source": [
    "### At which threshold F1 is maximal? — threshold 0.57 — 0.812 (closest 0.54)"
   ]
  },
  {
   "cell_type": "markdown",
   "id": "47d608d0-29f5-471f-a98e-fc171f81e945",
   "metadata": {},
   "source": [
    "# Question 5: 5-Fold CV"
   ]
  },
  {
   "cell_type": "code",
   "execution_count": 26,
   "id": "97f81a2c-ea7d-4818-882f-908e153234b6",
   "metadata": {},
   "outputs": [],
   "source": [
    "from sklearn.model_selection import KFold\n",
    "from tqdm.auto import tqdm"
   ]
  },
  {
   "cell_type": "code",
   "execution_count": 27,
   "id": "bf2a3116-d473-4c31-84b4-235cefe7a28a",
   "metadata": {},
   "outputs": [],
   "source": [
    "kfold = KFold(n_splits=5, shuffle=True, random_state=1)"
   ]
  },
  {
   "cell_type": "code",
   "execution_count": 29,
   "id": "564c0727-0eec-4580-b753-58bb8dc5982f",
   "metadata": {},
   "outputs": [],
   "source": [
    "def train(df_train, y_train, C=1.0):\n",
    "    dicts = df_train[categorical + numerical].to_dict(orient='records')\n",
    "    \n",
    "    dv = DictVectorizer(sparse=False)\n",
    "    X_train = dv.fit_transform(dicts)\n",
    "    \n",
    "    model = LogisticRegression(solver='liblinear', C=C, max_iter=1000)\n",
    "    model.fit(X_train, y_train)\n",
    "\n",
    "    return dv, model\n",
    "\n",
    "def predict(df, dv, model):\n",
    "    dicts = df[categorical + numerical].to_dict(orient='records')\n",
    "\n",
    "    X = dv.transform(dicts)\n",
    "    y_pred = model.predict_proba(X)[:,1]\n",
    "\n",
    "    return y_pred"
   ]
  },
  {
   "cell_type": "code",
   "execution_count": 30,
   "id": "494157bd-3850-4bd1-a1ab-8eef55866c78",
   "metadata": {},
   "outputs": [],
   "source": [
    "train_idx, val_idx = next(kfold.split(df_full_train))"
   ]
  },
  {
   "cell_type": "code",
   "execution_count": 35,
   "id": "564a2eef-68d2-4d23-bd6f-72f9dcb25193",
   "metadata": {},
   "outputs": [
    {
     "data": {
      "application/vnd.jupyter.widget-view+json": {
       "model_id": "19f0273080cc488d9c4abaddf9162ada",
       "version_major": 2,
       "version_minor": 0
      },
      "text/plain": [
       "0it [00:00, ?it/s]"
      ]
     },
     "metadata": {},
     "output_type": "display_data"
    },
    {
     "name": "stdout",
     "output_type": "stream",
     "text": [
      "0.036\n"
     ]
    }
   ],
   "source": [
    "scores = []\n",
    "\n",
    "for train_idx, val_idx in tqdm(kfold.split(df_full_train)):\n",
    "\n",
    "    df_train = df_full_train.iloc[train_idx]\n",
    "    df_val = df_full_train.iloc[val_idx]\n",
    "\n",
    "    y_train = df_train.converted.values\n",
    "    y_val = df_val.converted.values\n",
    "\n",
    "    del df_train['converted']\n",
    "    del df_val['converted']\n",
    "\n",
    "    dv, model = train(df_train, y_train)\n",
    "    y_pred = predict(df_val, dv, model)\n",
    "\n",
    "    auc = roc_auc_score(y_val, y_pred)\n",
    "    scores.append(auc)\n",
    "\n",
    "print(round(np.std(scores),3))"
   ]
  },
  {
   "cell_type": "markdown",
   "id": "fdcc8f33-f72c-4eb6-b781-4443fb0fa87a",
   "metadata": {},
   "source": [
    "### How large is standard deviation of the scores across different folds? — 0.036"
   ]
  },
  {
   "cell_type": "markdown",
   "id": "bcf7c153-7057-4d4a-bd38-6f56ec9084c6",
   "metadata": {},
   "source": [
    "# Question 6: Hyperparameter Tuning"
   ]
  },
  {
   "cell_type": "code",
   "execution_count": 37,
   "id": "3b926eac-809f-4f2c-a229-70ae6c479f6b",
   "metadata": {},
   "outputs": [],
   "source": [
    "def train(df_train, y_train, C=1.0):\n",
    "    dicts = df_train[categorical + numerical].to_dict(orient='records')\n",
    "    \n",
    "    dv = DictVectorizer(sparse=False)\n",
    "    X_train = dv.fit_transform(dicts)\n",
    "    \n",
    "    model = LogisticRegression(solver='liblinear', C=C, max_iter=1000)\n",
    "    model.fit(X_train, y_train)\n",
    "\n",
    "    return dv, model\n",
    "\n",
    "def predict(df, dv, model):\n",
    "    dicts = df[categorical + numerical].to_dict(orient='records')\n",
    "\n",
    "    X = dv.transform(dicts)\n",
    "    y_pred = model.predict_proba(X)[:,1]\n",
    "\n",
    "    return y_pred"
   ]
  },
  {
   "cell_type": "code",
   "execution_count": 38,
   "id": "8429d74d-cd5b-4ca9-8787-12af9dc4720b",
   "metadata": {},
   "outputs": [
    {
     "data": {
      "application/vnd.jupyter.widget-view+json": {
       "model_id": "9091ed869efa44a48abd01dcff7f2eb4",
       "version_major": 2,
       "version_minor": 0
      },
      "text/plain": [
       "  0%|          | 0/3 [00:00<?, ?it/s]"
      ]
     },
     "metadata": {},
     "output_type": "display_data"
    },
    {
     "data": {
      "application/vnd.jupyter.widget-view+json": {
       "model_id": "fb08d3b598684106bef54d064b63e8fd",
       "version_major": 2,
       "version_minor": 0
      },
      "text/plain": [
       "  0%|          | 0/5 [00:00<?, ?it/s]"
      ]
     },
     "metadata": {},
     "output_type": "display_data"
    },
    {
     "name": "stdout",
     "output_type": "stream",
     "text": [
      "C=1e-06 0.560 +- 0.024\n"
     ]
    },
    {
     "data": {
      "application/vnd.jupyter.widget-view+json": {
       "model_id": "eb60c5a86c8f494785ccae4b854041ce",
       "version_major": 2,
       "version_minor": 0
      },
      "text/plain": [
       "  0%|          | 0/5 [00:00<?, ?it/s]"
      ]
     },
     "metadata": {},
     "output_type": "display_data"
    },
    {
     "name": "stdout",
     "output_type": "stream",
     "text": [
      "C=0.001 0.867 +- 0.029\n"
     ]
    },
    {
     "data": {
      "application/vnd.jupyter.widget-view+json": {
       "model_id": "43747b3da2d34b7488c512216a3dd62e",
       "version_major": 2,
       "version_minor": 0
      },
      "text/plain": [
       "  0%|          | 0/5 [00:00<?, ?it/s]"
      ]
     },
     "metadata": {},
     "output_type": "display_data"
    },
    {
     "name": "stdout",
     "output_type": "stream",
     "text": [
      "C=1 0.822 +- 0.036\n"
     ]
    }
   ],
   "source": [
    "n_splits = 5\n",
    "\n",
    "for C in tqdm([0.000001, 0.001, 1]):\n",
    "    scores = []\n",
    "\n",
    "    kfold = KFold(n_splits=n_splits, shuffle=True, random_state=1)\n",
    "    \n",
    "    for train_idx, val_idx in tqdm(kfold.split(df_full_train), total=n_splits):\n",
    "    \n",
    "        df_train = df_full_train.iloc[train_idx]\n",
    "        df_val = df_full_train.iloc[val_idx]\n",
    "    \n",
    "        y_train = df_train.converted.values\n",
    "        y_val = df_val.converted.values\n",
    "\n",
    "        del df_train['converted']\n",
    "        del df_val['converted']\n",
    "    \n",
    "        dv, model = train(df_train, y_train, C)\n",
    "        y_pred = predict(df_val, dv, model)\n",
    "    \n",
    "        auc = roc_auc_score(y_val, y_pred)\n",
    "        scores.append(auc)\n",
    "\n",
    "    print('C=%s %.3f +- %.3f' % (C, np.mean(scores), np.std(scores)))"
   ]
  },
  {
   "cell_type": "markdown",
   "id": "7d3cf8d8-ffc8-43f6-ab29-b95366c0c5a8",
   "metadata": {},
   "source": [
    "### Which C leads to the best mean score? — C=0.001 0.867 +- 0.029"
   ]
  },
  {
   "cell_type": "code",
   "execution_count": null,
   "id": "ebc2a4fc-a237-4bed-a322-fc618b70f085",
   "metadata": {},
   "outputs": [],
   "source": []
  },
  {
   "cell_type": "code",
   "execution_count": null,
   "id": "3bd94763-f9f7-4d2a-a208-fda4401bebef",
   "metadata": {},
   "outputs": [],
   "source": []
  }
 ],
 "metadata": {
  "kernelspec": {
   "display_name": "Python (system)",
   "language": "python",
   "name": "system-python"
  },
  "language_info": {
   "codemirror_mode": {
    "name": "ipython",
    "version": 3
   },
   "file_extension": ".py",
   "mimetype": "text/x-python",
   "name": "python",
   "nbconvert_exporter": "python",
   "pygments_lexer": "ipython3",
   "version": "3.9.6"
  }
 },
 "nbformat": 4,
 "nbformat_minor": 5
}
